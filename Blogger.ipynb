{
  "nbformat": 4,
  "nbformat_minor": 0,
  "metadata": {
    "colab": {
      "provenance": [],
      "authorship_tag": "ABX9TyMDWpeUxicshqeZD1urfQ5T",
      "include_colab_link": true
    },
    "kernelspec": {
      "name": "python3",
      "display_name": "Python 3"
    },
    "language_info": {
      "name": "python"
    }
  },
  "cells": [
    {
      "cell_type": "markdown",
      "metadata": {
        "id": "view-in-github",
        "colab_type": "text"
      },
      "source": [
        "<a href=\"https://colab.research.google.com/github/Keerat666/AI-Blogger-JRP/blob/fix-google-collab/Blogger.ipynb\" target=\"_parent\"><img src=\"https://colab.research.google.com/assets/colab-badge.svg\" alt=\"Open In Colab\"/></a>"
      ]
    },
    {
      "cell_type": "markdown",
      "source": [],
      "metadata": {
        "id": "M3JlnyrmT7de"
      }
    },
    {
      "cell_type": "code",
      "source": [
        "pip install google-generativeai"
      ],
      "metadata": {
        "id": "tEXhkTpd81oZ"
      },
      "execution_count": null,
      "outputs": []
    },
    {
      "cell_type": "code",
      "source": [
        "\"\"\"\n",
        "Google Colab Notebook for AI Blogger with Gemini\n",
        "\n",
        "**Description:**\n",
        "\n",
        "This notebook demonstrates an AI blogger built with the Gemini library.\n",
        "It allows you to provide a topic, and the script will generate a blog post based on that topic using Gemini's capabilities.\n",
        "\n",
        "**Output:**\n",
        "\n",
        "The script will generate a blog post based on the provided topic and display it within the notebook.\n",
        "\"\"\"\n",
        "\n",
        "import os\n",
        "\n",
        "import google.generativeai as genai\n",
        "# Add your Gemini API Key Below\n",
        "genai.configure(api_key='')\n",
        "\n",
        "# Create the model\n",
        "# See https://ai.google.dev/api/python/google/generativeai/GenerativeModel\n",
        "generation_config = {\n",
        "  \"temperature\": 1,\n",
        "  \"top_p\": 0.95,\n",
        "  \"top_k\": 64,\n",
        "  \"max_output_tokens\": 8192,\n",
        "  \"response_mime_type\": \"text/plain\",\n",
        "}\n",
        "\n",
        "model = genai.GenerativeModel(\n",
        "  model_name=\"gemini-1.5-pro\",\n",
        "  generation_config=generation_config,\n",
        "  # safety_settings = Adjust safety settings\n",
        "  # See https://ai.google.dev/gemini-api/docs/safety-settings\n",
        "  system_instruction=\"Act as an experienced blogger who knows about all the topics in this world. You will be receiving a blog post topic as an input and you have to write a crisp and humanly toned blog post. Do not make up fake stuff and try to be very factual and quote stats related to that topic if possible to make the end result accurate. Keep the word count at around 150 words. Do not cross this word limit.\",\n",
        ")\n",
        "\n",
        "chat_session = model.start_chat(\n",
        "  history=[\n",
        "    {\n",
        "      \"role\": \"user\",\n",
        "      \"parts\": [\n",
        "        \"Java\",\n",
        "      ],\n",
        "    },\n",
        "    {\n",
        "      \"role\": \"model\",\n",
        "      \"parts\": [\n",
        "        \"## Java: Still Going Strong After All These Years ☕\\n\\nJava – the name alone conjures images of coding bootcamps and endless lines of code. But don't let its age fool you, this programming language is far from obsolete. \\n\\nBorn in 1995, Java's \\\"write once, run anywhere\\\" philosophy quickly made it a favorite. Today, it remains incredibly relevant, powering everything from Android apps to enterprise-level systems.  Its stability, vast libraries, and active community make it a top choice for businesses and developers alike.  \\n\\nDon't just take our word for it – statistics show that Java is consistently ranked among the top 3 most popular programming languages worldwide.  Whether you're a seasoned developer or just starting out, Java's versatility and enduring popularity make it a language worth learning. \\n\",\n",
        "      ],\n",
        "    },\n",
        "    {\n",
        "      \"role\": \"user\",\n",
        "      \"parts\": [\n",
        "        \"Maruti Suzuki Swift\",\n",
        "      ],\n",
        "    },\n",
        "    {\n",
        "      \"role\": \"model\",\n",
        "      \"parts\": [\n",
        "        \"##  The Maruti Suzuki Swift: India's Constant Companion 🚗\\n\\nZipping through crowded streets or cruising down highways, the Maruti Suzuki Swift has become a ubiquitous sight in India.  Launched in 2005, its blend of affordability, fuel efficiency, and sporty looks struck a chord with Indian consumers. \\n\\nOver 2.2 million Swifts have been sold in India, making it one of the country's best-selling cars ever.  Its peppy engine options, easy maneuverability, and low maintenance costs make it a favorite for first-time car buyers and seasoned drivers alike. \\n\\nThe Swift has evolved through the years, with each iteration refining its design and features.  But its core appeal remains unchanged: a reliable and stylish hatchback that fits perfectly into the Indian automotive landscape.  \\n\",\n",
        "      ],\n",
        "    },\n",
        "  ]\n",
        ")\n",
        "\n",
        "response = chat_session.send_message(\"Google\")\n",
        "\n",
        "print(response.text)"
      ],
      "metadata": {
        "colab": {
          "base_uri": "https://localhost:8080/",
          "height": 173
        },
        "id": "zrZqc30q8ldc",
        "outputId": "89e72575-790c-4d11-c1fb-daff5f640096"
      },
      "execution_count": null,
      "outputs": [
        {
          "output_type": "stream",
          "name": "stdout",
          "text": [
            "## Google: More Than Just a Search Bar 🌐\n",
            "\n",
            "\"Just Google it\" - a phrase so ingrained in our vocabulary that it speaks volumes about Google's dominance.  But Google is much more than just a search engine. \n",
            "\n",
            "From its humble beginnings in a Stanford dorm room, Google has become a tech behemoth, touching nearly every aspect of our digital lives.  With over 92% of the global search engine market share, Google processes a staggering 8.5 billion searches daily. \n",
            "\n",
            "But its reach extends far beyond search. Android, Gmail, YouTube, Google Maps – these Google products are integral parts of our daily routines. Google's innovative spirit and continuous expansion have solidified its place as a driving force shaping the future of technology. \n",
            "\n"
          ]
        }
      ]
    }
  ]
}